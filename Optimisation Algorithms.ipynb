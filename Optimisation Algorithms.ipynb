{
 "cells": [
  {
   "attachments": {},
   "cell_type": "markdown",
   "metadata": {},
   "source": [
    "# Optimisation Algorithms\n",
    "The following code implements Mini-batch Gradient Descent, Gradient Descent with Momentum, RMSprop and Adam."
   ]
  },
  {
   "attachments": {},
   "cell_type": "markdown",
   "metadata": {},
   "source": [
    "## 1 Data Loading & Cleaning\n",
    "The data set contains the credit card debt information of 10,000 customers and whether they defaulted or not."
   ]
  },
  {
   "cell_type": "code",
   "execution_count": 1,
   "metadata": {},
   "outputs": [],
   "source": [
    "# Importing libraries\n",
    "import numpy as np\n",
    "import pandas as pd\n",
    "from sklearn.preprocessing import StandardScaler"
   ]
  },
  {
   "cell_type": "code",
   "execution_count": 2,
   "metadata": {},
   "outputs": [
    {
     "data": {
      "text/html": [
       "<div>\n",
       "<style scoped>\n",
       "    .dataframe tbody tr th:only-of-type {\n",
       "        vertical-align: middle;\n",
       "    }\n",
       "\n",
       "    .dataframe tbody tr th {\n",
       "        vertical-align: top;\n",
       "    }\n",
       "\n",
       "    .dataframe thead th {\n",
       "        text-align: right;\n",
       "    }\n",
       "</style>\n",
       "<table border=\"1\" class=\"dataframe\">\n",
       "  <thead>\n",
       "    <tr style=\"text-align: right;\">\n",
       "      <th></th>\n",
       "      <th>default</th>\n",
       "      <th>student</th>\n",
       "      <th>balance</th>\n",
       "      <th>income</th>\n",
       "    </tr>\n",
       "  </thead>\n",
       "  <tbody>\n",
       "    <tr>\n",
       "      <th>0</th>\n",
       "      <td>No</td>\n",
       "      <td>No</td>\n",
       "      <td>729.526495</td>\n",
       "      <td>44361.625074</td>\n",
       "    </tr>\n",
       "    <tr>\n",
       "      <th>1</th>\n",
       "      <td>No</td>\n",
       "      <td>Yes</td>\n",
       "      <td>817.180407</td>\n",
       "      <td>12106.134700</td>\n",
       "    </tr>\n",
       "    <tr>\n",
       "      <th>2</th>\n",
       "      <td>No</td>\n",
       "      <td>No</td>\n",
       "      <td>1073.549164</td>\n",
       "      <td>31767.138947</td>\n",
       "    </tr>\n",
       "    <tr>\n",
       "      <th>3</th>\n",
       "      <td>No</td>\n",
       "      <td>No</td>\n",
       "      <td>529.250605</td>\n",
       "      <td>35704.493935</td>\n",
       "    </tr>\n",
       "    <tr>\n",
       "      <th>4</th>\n",
       "      <td>No</td>\n",
       "      <td>No</td>\n",
       "      <td>785.655883</td>\n",
       "      <td>38463.495879</td>\n",
       "    </tr>\n",
       "  </tbody>\n",
       "</table>\n",
       "</div>"
      ],
      "text/plain": [
       "  default student      balance        income\n",
       "0      No      No   729.526495  44361.625074\n",
       "1      No     Yes   817.180407  12106.134700\n",
       "2      No      No  1073.549164  31767.138947\n",
       "3      No      No   529.250605  35704.493935\n",
       "4      No      No   785.655883  38463.495879"
      ]
     },
     "execution_count": 2,
     "metadata": {},
     "output_type": "execute_result"
    }
   ],
   "source": [
    "# Loading the data\n",
    "df = pd.read_csv('Default.csv')\n",
    "df.head()"
   ]
  },
  {
   "cell_type": "code",
   "execution_count": 3,
   "metadata": {},
   "outputs": [],
   "source": [
    "# Scaling and converting to NumPy arrays\n",
    "df['default']=df['default'].apply(lambda x: 0 if x=='No' else 1)\n",
    "df['student']=df['student'].apply(lambda x: 0 if x=='No' else 1)"
   ]
  },
  {
   "cell_type": "code",
   "execution_count": 4,
   "metadata": {},
   "outputs": [
    {
     "data": {
      "text/html": [
       "<div>\n",
       "<style scoped>\n",
       "    .dataframe tbody tr th:only-of-type {\n",
       "        vertical-align: middle;\n",
       "    }\n",
       "\n",
       "    .dataframe tbody tr th {\n",
       "        vertical-align: top;\n",
       "    }\n",
       "\n",
       "    .dataframe thead th {\n",
       "        text-align: right;\n",
       "    }\n",
       "</style>\n",
       "<table border=\"1\" class=\"dataframe\">\n",
       "  <thead>\n",
       "    <tr style=\"text-align: right;\">\n",
       "      <th></th>\n",
       "      <th>default</th>\n",
       "      <th>student</th>\n",
       "      <th>balance</th>\n",
       "      <th>income</th>\n",
       "    </tr>\n",
       "  </thead>\n",
       "  <tbody>\n",
       "    <tr>\n",
       "      <th>0</th>\n",
       "      <td>0</td>\n",
       "      <td>0</td>\n",
       "      <td>729.526495</td>\n",
       "      <td>44361.625074</td>\n",
       "    </tr>\n",
       "    <tr>\n",
       "      <th>1</th>\n",
       "      <td>0</td>\n",
       "      <td>1</td>\n",
       "      <td>817.180407</td>\n",
       "      <td>12106.134700</td>\n",
       "    </tr>\n",
       "    <tr>\n",
       "      <th>2</th>\n",
       "      <td>0</td>\n",
       "      <td>0</td>\n",
       "      <td>1073.549164</td>\n",
       "      <td>31767.138947</td>\n",
       "    </tr>\n",
       "    <tr>\n",
       "      <th>3</th>\n",
       "      <td>0</td>\n",
       "      <td>0</td>\n",
       "      <td>529.250605</td>\n",
       "      <td>35704.493935</td>\n",
       "    </tr>\n",
       "    <tr>\n",
       "      <th>4</th>\n",
       "      <td>0</td>\n",
       "      <td>0</td>\n",
       "      <td>785.655883</td>\n",
       "      <td>38463.495879</td>\n",
       "    </tr>\n",
       "  </tbody>\n",
       "</table>\n",
       "</div>"
      ],
      "text/plain": [
       "   default  student      balance        income\n",
       "0        0        0   729.526495  44361.625074\n",
       "1        0        1   817.180407  12106.134700\n",
       "2        0        0  1073.549164  31767.138947\n",
       "3        0        0   529.250605  35704.493935\n",
       "4        0        0   785.655883  38463.495879"
      ]
     },
     "execution_count": 4,
     "metadata": {},
     "output_type": "execute_result"
    }
   ],
   "source": [
    "df.head()"
   ]
  },
  {
   "cell_type": "code",
   "execution_count": 5,
   "metadata": {},
   "outputs": [
    {
     "name": "stdout",
     "output_type": "stream",
     "text": [
      "<class 'pandas.core.frame.DataFrame'>\n",
      "RangeIndex: 10000 entries, 0 to 9999\n",
      "Data columns (total 4 columns):\n",
      " #   Column   Non-Null Count  Dtype  \n",
      "---  ------   --------------  -----  \n",
      " 0   default  10000 non-null  int64  \n",
      " 1   student  10000 non-null  int64  \n",
      " 2   balance  10000 non-null  float64\n",
      " 3   income   10000 non-null  float64\n",
      "dtypes: float64(2), int64(2)\n",
      "memory usage: 312.6 KB\n"
     ]
    }
   ],
   "source": [
    "df.info()"
   ]
  },
  {
   "cell_type": "code",
   "execution_count": 6,
   "metadata": {},
   "outputs": [
    {
     "data": {
      "text/html": [
       "<div>\n",
       "<style scoped>\n",
       "    .dataframe tbody tr th:only-of-type {\n",
       "        vertical-align: middle;\n",
       "    }\n",
       "\n",
       "    .dataframe tbody tr th {\n",
       "        vertical-align: top;\n",
       "    }\n",
       "\n",
       "    .dataframe thead th {\n",
       "        text-align: right;\n",
       "    }\n",
       "</style>\n",
       "<table border=\"1\" class=\"dataframe\">\n",
       "  <thead>\n",
       "    <tr style=\"text-align: right;\">\n",
       "      <th></th>\n",
       "      <th>default</th>\n",
       "      <th>student</th>\n",
       "      <th>balance</th>\n",
       "      <th>income</th>\n",
       "    </tr>\n",
       "  </thead>\n",
       "  <tbody>\n",
       "    <tr>\n",
       "      <th>0</th>\n",
       "      <td>0</td>\n",
       "      <td>0</td>\n",
       "      <td>-0.218835</td>\n",
       "      <td>0.813187</td>\n",
       "    </tr>\n",
       "    <tr>\n",
       "      <th>1</th>\n",
       "      <td>0</td>\n",
       "      <td>1</td>\n",
       "      <td>-0.037616</td>\n",
       "      <td>-1.605496</td>\n",
       "    </tr>\n",
       "    <tr>\n",
       "      <th>2</th>\n",
       "      <td>0</td>\n",
       "      <td>0</td>\n",
       "      <td>0.492410</td>\n",
       "      <td>-0.131212</td>\n",
       "    </tr>\n",
       "    <tr>\n",
       "      <th>3</th>\n",
       "      <td>0</td>\n",
       "      <td>0</td>\n",
       "      <td>-0.632893</td>\n",
       "      <td>0.164031</td>\n",
       "    </tr>\n",
       "    <tr>\n",
       "      <th>4</th>\n",
       "      <td>0</td>\n",
       "      <td>0</td>\n",
       "      <td>-0.102791</td>\n",
       "      <td>0.370915</td>\n",
       "    </tr>\n",
       "    <tr>\n",
       "      <th>...</th>\n",
       "      <td>...</td>\n",
       "      <td>...</td>\n",
       "      <td>...</td>\n",
       "      <td>...</td>\n",
       "    </tr>\n",
       "    <tr>\n",
       "      <th>9995</th>\n",
       "      <td>0</td>\n",
       "      <td>0</td>\n",
       "      <td>-0.255990</td>\n",
       "      <td>1.460366</td>\n",
       "    </tr>\n",
       "    <tr>\n",
       "      <th>9996</th>\n",
       "      <td>0</td>\n",
       "      <td>0</td>\n",
       "      <td>-0.160044</td>\n",
       "      <td>-1.039014</td>\n",
       "    </tr>\n",
       "    <tr>\n",
       "      <th>9997</th>\n",
       "      <td>0</td>\n",
       "      <td>0</td>\n",
       "      <td>0.020751</td>\n",
       "      <td>1.883565</td>\n",
       "    </tr>\n",
       "    <tr>\n",
       "      <th>9998</th>\n",
       "      <td>0</td>\n",
       "      <td>0</td>\n",
       "      <td>1.516742</td>\n",
       "      <td>0.236363</td>\n",
       "    </tr>\n",
       "    <tr>\n",
       "      <th>9999</th>\n",
       "      <td>0</td>\n",
       "      <td>1</td>\n",
       "      <td>-1.311691</td>\n",
       "      <td>-1.248805</td>\n",
       "    </tr>\n",
       "  </tbody>\n",
       "</table>\n",
       "<p>10000 rows × 4 columns</p>\n",
       "</div>"
      ],
      "text/plain": [
       "      default  student   balance    income\n",
       "0           0        0 -0.218835  0.813187\n",
       "1           0        1 -0.037616 -1.605496\n",
       "2           0        0  0.492410 -0.131212\n",
       "3           0        0 -0.632893  0.164031\n",
       "4           0        0 -0.102791  0.370915\n",
       "...       ...      ...       ...       ...\n",
       "9995        0        0 -0.255990  1.460366\n",
       "9996        0        0 -0.160044 -1.039014\n",
       "9997        0        0  0.020751  1.883565\n",
       "9998        0        0  1.516742  0.236363\n",
       "9999        0        1 -1.311691 -1.248805\n",
       "\n",
       "[10000 rows x 4 columns]"
      ]
     },
     "execution_count": 6,
     "metadata": {},
     "output_type": "execute_result"
    }
   ],
   "source": [
    "scaler = StandardScaler()\n",
    "df[['balance','income']] = scaler.fit_transform(df[['balance','income']])\n",
    "df"
   ]
  },
  {
   "cell_type": "code",
   "execution_count": 7,
   "metadata": {},
   "outputs": [],
   "source": [
    "Y = df['default'].to_numpy().reshape(-1,1)\n",
    "X = df.drop(columns=['default']).to_numpy()"
   ]
  },
  {
   "cell_type": "code",
   "execution_count": 8,
   "metadata": {},
   "outputs": [
    {
     "name": "stdout",
     "output_type": "stream",
     "text": [
      "Shape of Y: (10000, 1)\n",
      "Shape of X: (10000, 3)\n"
     ]
    }
   ],
   "source": [
    "print(\"Shape of Y:\",Y.shape)\n",
    "print(\"Shape of X:\",X.shape)"
   ]
  },
  {
   "cell_type": "code",
   "execution_count": 9,
   "metadata": {},
   "outputs": [
    {
     "name": "stdout",
     "output_type": "stream",
     "text": [
      "Shape of Y: (1, 10000)\n",
      "Shape of X: (3, 10000)\n"
     ]
    }
   ],
   "source": [
    "X = X.T\n",
    "Y = Y.T\n",
    "\n",
    "print(\"Shape of Y:\",Y.shape)\n",
    "print(\"Shape of X:\",X.shape)"
   ]
  },
  {
   "attachments": {},
   "cell_type": "markdown",
   "metadata": {},
   "source": [
    "## 2 Training a Deep Neural Network Using Gradient Descent\n",
    "The following code implements backpropagation to train a deep neural network of 2 hidden layers with 4 neurons in each hidden layer."
   ]
  },
  {
   "cell_type": "code",
   "execution_count": 10,
   "metadata": {},
   "outputs": [],
   "source": [
    "# Initialising the paramaters of the neural network with Xavier initialisation\n",
    "W = [np.random.randn(4,3)*np.sqrt(1/3),np.random.randn(4,4)*np.sqrt(1/4),np.random.randn(1,4)*np.sqrt(1/4)]\n",
    "b = [np.zeros((4,1)),np.zeros((4,1)),np.zeros((1,1))]"
   ]
  },
  {
   "cell_type": "code",
   "execution_count": 11,
   "metadata": {},
   "outputs": [
    {
     "name": "stdout",
     "output_type": "stream",
     "text": [
      "Last iteration: 500\n",
      "Losses: [0.17104617 0.17086217 0.17067891 0.1704964  0.17031463 0.17013359\n",
      " 0.16995327 0.16977368 0.16959481 0.16941665]\n",
      "\n",
      "Weights and biases\n",
      "W1: [[ 1.11589552  0.14967665  0.19426931]\n",
      " [-0.11277454 -1.5342748  -0.45921901]\n",
      " [ 0.35928888  0.54526998 -0.33379602]\n",
      " [-0.52232721  0.15571681  0.14281793]]\n",
      "b1: [[-0.00614254]\n",
      " [-0.25476298]\n",
      " [-0.39797676]\n",
      " [-0.25247702]]\n",
      "W2: [[-0.10444912 -0.28303212 -1.00357496 -0.93629083]\n",
      " [ 0.31868029  0.17828782 -0.24727073 -0.58725937]\n",
      " [-0.15968463  0.58055934  0.24538886  0.0120838 ]\n",
      " [ 0.99853927 -0.00986984 -0.49169241 -0.31429864]]\n",
      "b2: [[ 0.50121925]\n",
      " [-0.1253683 ]\n",
      " [-0.45723513]\n",
      " [ 0.05935205]]\n",
      "W3: [[-1.07826085  0.01999585  0.64544082 -0.25193593]]\n",
      "b3: [[-0.97868414]]\n"
     ]
    }
   ],
   "source": [
    "# Updating parameters using gradient descent\n",
    "iter = 500\n",
    "lr = 0.01\n",
    "loss = np.array([])\n",
    "L = 3\n",
    "m = Y.shape[1]\n",
    "\n",
    "for i in np.arange(iter):\n",
    "    # Forward propagation\n",
    "    Z = []\n",
    "    A = []\n",
    "    for l in np.arange(L):\n",
    "        Z.append(W[l]@A[l-1]+b[l] if l> 0 else W[l]@X+b[l])\n",
    "        A.append(1/(1+np.exp(-Z[l])) if l==L-1 else np.tanh(Z[l]))\n",
    "\n",
    "    # Back propagation\n",
    "    dZ = [0]*L\n",
    "    dA = [0]*L\n",
    "    dW = [0]*L\n",
    "    db = [0]*L\n",
    "    \n",
    "    for l in np.arange(L-1,-1,-1):\n",
    "        dZ[l] = A[l]-Y if l==L-1 else dA[l]*(1-np.tanh(Z[l])**2)\n",
    "        dA[l-1] = W[l].T@dZ[l] if l> 0 else 0\n",
    "        dW[l] = 1/m*dZ[l]@A[l-1].T if l>0 else 1/m*dZ[l]@X.T\n",
    "        db[l] = 1/m*np.sum(dZ[l],axis=1,keepdims=True)\n",
    "        W[l] -= lr*dW[l]\n",
    "        b[l] -= lr*db[l]\n",
    "\n",
    "    current_loss = -1/m*(Y@np.log(A[L-1]).T+(1-Y)@np.log(1-A[L-1]).T)\n",
    "    loss = np.append(loss,current_loss)\n",
    "\n",
    "print(\"Last iteration:\",i+1)\n",
    "print(\"Losses:\",loss[-10:])\n",
    "\n",
    "print(\"\\nWeights and biases\")\n",
    "print(\"W1:\",W[0])\n",
    "print(\"b1:\",b[0])\n",
    "print(\"W2:\",W[1])\n",
    "print(\"b2:\",b[1])\n",
    "print(\"W3:\",W[2])\n",
    "print(\"b3:\",b[2])"
   ]
  },
  {
   "cell_type": "code",
   "execution_count": 12,
   "metadata": {},
   "outputs": [
    {
     "data": {
      "image/png": "[encoded data removed]",
      "text/plain": [
       "<Figure size 504x504 with 1 Axes>"
      ]
     },
     "metadata": {
      "needs_background": "light"
     },
     "output_type": "display_data"
    }
   ],
   "source": [
    "# Plotting the cost function against the number of iterations\n",
    "import matplotlib.pyplot as plt\n",
    "import warnings\n",
    "warnings.filterwarnings('ignore')\n",
    "\n",
    "fig = plt.figure(figsize=[7,7])\n",
    "ax = fig.add_subplot(1,1,1)\n",
    "ax.plot(np.arange(iter)+1,loss)\n",
    "ax.set_ylabel('Cost')\n",
    "ax.set_xlabel('Iterations')\n",
    "fig.show()"
   ]
  },
  {
   "cell_type": "markdown",
   "metadata": {},
   "source": [
    "## 3 Training a Deep Neural Network Using Mini-batch Gradient Descent\n",
    "The following code implements mini-batch gradient descent to train a deep neural network of 2 hidden layers with 4 neurons in each hidden layer."
   ]
  },
  {
   "cell_type": "code",
   "execution_count": 13,
   "metadata": {},
   "outputs": [],
   "source": [
    "# Initialising the paramaters of the neural network with Xavier initialisation\n",
    "W = [np.random.randn(4,3)*np.sqrt(1/3),np.random.randn(4,4)*np.sqrt(1/4),np.random.randn(1,4)*np.sqrt(1/4)]\n",
    "b = [np.zeros((4,1)),np.zeros((4,1)),np.zeros((1,1))]"
   ]
  },
  {
   "cell_type": "code",
   "execution_count": 14,
   "metadata": {},
   "outputs": [
    {
     "name": "stdout",
     "output_type": "stream",
     "text": [
      "Last iteration: 7\n",
      "Losses: [0.14723078 0.14347364 0.17608638 0.11557753 0.18164834 0.19197449\n",
      " 0.19538856 0.11213093 0.1696175  0.20474217]\n",
      "\n",
      "Weights and biases\n",
      "W1: [[-0.98686431 -0.42306741 -0.61631859]\n",
      " [-0.58996657 -0.12886733 -0.13609302]\n",
      " [-0.0846785  -0.4897044   0.75335797]\n",
      " [ 0.64096899 -0.9374965   0.19305173]]\n",
      "b1: [[-0.25885842]\n",
      " [ 0.05521485]\n",
      " [ 0.07191037]\n",
      " [ 0.22657051]]\n",
      "W2: [[ 0.06030603 -0.07950256 -0.29595666 -0.65511613]\n",
      " [-0.37616011 -0.32466155  0.35236567 -0.29879915]\n",
      " [-0.10733643  0.36297075 -0.40509618  0.03775536]\n",
      " [ 0.5665607   0.25707539 -0.17918374 -0.32455401]]\n",
      "b2: [[-0.48754087]\n",
      " [ 0.21907176]\n",
      " [ 0.47078024]\n",
      " [-0.41332897]]\n",
      "W3: [[ 0.87418136 -0.30447514 -0.64243122  0.73078986]]\n",
      "b3: [[-1.02821546]]\n"
     ]
    }
   ],
   "source": [
    "# Updating parameters using gradient descent\n",
    "iter = 7\n",
    "lr = 0.01\n",
    "loss = np.array([])\n",
    "L = 3\n",
    "batch_size = 125\n",
    "batch_num = Y.shape[1]//batch_size if Y.shape[1]%batch_size == 0 else Y.shape[1]//batch_size + 1\n",
    "\n",
    "for i in np.arange(iter):\n",
    "    \n",
    "    for t in np.arange(batch_num):\n",
    "        # Forward propagation\n",
    "        Z = []\n",
    "        A = []\n",
    "        for l in np.arange(L):\n",
    "            Z.append(W[l]@A[l-1]+b[l] if l> 0 else W[l]@X[:,t*batch_size:(t+1)*batch_size]+b[l])\n",
    "            A.append(1/(1+np.exp(-Z[l])) if l==L-1 else np.tanh(Z[l]))\n",
    "\n",
    "        # Back propagation\n",
    "        dZ = [0]*L\n",
    "        dA = [0]*L\n",
    "        dW = [0]*L\n",
    "        db = [0]*L\n",
    "        \n",
    "        p = X[:,t*batch_size:(t+1)*batch_size].shape[1]\n",
    "        for l in np.arange(L-1,-1,-1):\n",
    "            dZ[l] = A[l]-Y[:,t*batch_size:(t+1)*batch_size] if l==L-1 else dA[l]*(1-np.tanh(Z[l])**2)\n",
    "            dA[l-1] = W[l].T@dZ[l] if l> 0 else 0\n",
    "            dW[l] = 1/p*dZ[l]@A[l-1].T if l>0 else 1/p*dZ[l]@X[:,t*batch_size:(t+1)*batch_size].T\n",
    "            db[l] = 1/p*np.sum(dZ[l],axis=1,keepdims=True)\n",
    "            W[l] -= lr*dW[l]\n",
    "            b[l] -= lr*db[l]\n",
    "\n",
    "        current_loss = -1/p*(Y[:,t*batch_size:(t+1)*batch_size]@np.log(A[L-1]).T+(1-Y[:,t*batch_size:(t+1)*batch_size])@np.log(1-A[L-1]).T)\n",
    "        loss = np.append(loss,current_loss)\n",
    "\n",
    "print(\"Last iteration:\",i+1)\n",
    "print(\"Losses:\",loss[-10:])\n",
    "\n",
    "print(\"\\nWeights and biases\")\n",
    "print(\"W1:\",W[0])\n",
    "print(\"b1:\",b[0])\n",
    "print(\"W2:\",W[1])\n",
    "print(\"b2:\",b[1])\n",
    "print(\"W3:\",W[2])\n",
    "print(\"b3:\",b[2])"
   ]
  },
  {
   "cell_type": "code",
   "execution_count": 15,
   "metadata": {},
   "outputs": [
    {
     "data": {
      "image/png": "[encoded data removed]",
      "text/plain": [
       "<Figure size 504x504 with 1 Axes>"
      ]
     },
     "metadata": {
      "needs_background": "light"
     },
     "output_type": "display_data"
    }
   ],
   "source": [
    "# Plotting the cost function against the number of iterations\n",
    "fig = plt.figure(figsize=[7,7])\n",
    "ax = fig.add_subplot(1,1,1)\n",
    "ax.plot(np.arange(len(loss))+1,loss)\n",
    "ax.set_ylabel('Cost')\n",
    "ax.set_xlabel('Iterations')\n",
    "fig.show()"
   ]
  },
  {
   "cell_type": "markdown",
   "metadata": {},
   "source": [
    "## 4 Training a Deep Neural Network Using Gradient Descent with Momentum\n",
    "The following code implements mini-batch gradient descent with momentum to train a deep neural network of 2 hidden layers with 4 neurons in each hidden layer."
   ]
  },
  {
   "cell_type": "code",
   "execution_count": 16,
   "metadata": {},
   "outputs": [],
   "source": [
    "# Initialising the paramaters of the neural network with Xavier initialisation\n",
    "W = [np.random.randn(4,3)*np.sqrt(1/3),np.random.randn(4,4)*np.sqrt(1/4),np.random.randn(1,4)*np.sqrt(1/4)]\n",
    "b = [np.zeros((4,1)),np.zeros((4,1)),np.zeros((1,1))]"
   ]
  },
  {
   "cell_type": "code",
   "execution_count": 17,
   "metadata": {},
   "outputs": [
    {
     "name": "stdout",
     "output_type": "stream",
     "text": [
      "Last iteration: 7\n",
      "Losses: [0.17620689 0.17569231 0.21034589 0.14031942 0.20804553 0.22558856\n",
      " 0.22424672 0.13933065 0.20982896 0.24202853]\n",
      "\n",
      "Weights and biases\n",
      "W1: [[ 0.14697732  0.21744229 -0.5896062 ]\n",
      " [ 0.0762257   0.25801274  0.44590378]\n",
      " [-0.17551724  0.28357215  0.08182998]\n",
      " [ 0.86022629 -0.14938278 -0.97393529]]\n",
      "b1: [[ 0.01745115]\n",
      " [-0.05210388]\n",
      " [ 0.54803601]\n",
      " [ 0.03221079]]\n",
      "W2: [[ 0.2873721   0.04819048  0.0639596   0.72573391]\n",
      " [-0.32860164 -0.03528914  0.50085067 -0.06352588]\n",
      " [-0.29829999  0.16099291 -0.93922671 -0.32721775]\n",
      " [-1.03815538  0.05371631 -0.01027924 -0.34825454]]\n",
      "b2: [[-0.05799354]\n",
      " [ 0.54038324]\n",
      " [-0.39558815]\n",
      " [-0.07514512]]\n",
      "W3: [[ 0.07597159 -0.76910708  0.60483489  0.0938026 ]]\n",
      "b3: [[-1.20669183]]\n"
     ]
    }
   ],
   "source": [
    "# Updating parameters using mini-batch gradient descent with momentum\n",
    "iter = 7\n",
    "lr = 0.01\n",
    "B = 0.90\n",
    "loss = np.array([])\n",
    "L = 3\n",
    "batch_size = 125\n",
    "batch_num = Y.shape[1]//batch_size if Y.shape[1]%batch_size == 0 else Y.shape[1]//batch_size + 1\n",
    "\n",
    "vdW = [0]*L\n",
    "vdb = [0]*L\n",
    "for i in np.arange(iter):\n",
    "    \n",
    "    for t in np.arange(batch_num):\n",
    "        # Forward propagation\n",
    "        Z = []\n",
    "        A = []\n",
    "        for l in np.arange(L):\n",
    "            Z.append(W[l]@A[l-1]+b[l] if l> 0 else W[l]@X[:,t*batch_size:(t+1)*batch_size]+b[l])\n",
    "            A.append(1/(1+np.exp(-Z[l])) if l==L-1 else np.tanh(Z[l]))\n",
    "\n",
    "        # Back propagation\n",
    "        dZ = [0]*L\n",
    "        dA = [0]*L\n",
    "        dW = [0]*L\n",
    "        db = [0]*L\n",
    "        \n",
    "        p = X[:,t*batch_size:(t+1)*batch_size].shape[1]\n",
    "        for l in np.arange(L-1,-1,-1):\n",
    "            dZ[l] = A[l]-Y[:,t*batch_size:(t+1)*batch_size] if l==L-1 else dA[l]*(1-np.tanh(Z[l])**2)\n",
    "            dA[l-1] = W[l].T@dZ[l] if l> 0 else 0\n",
    "            dW[l] = 1/p*dZ[l]@A[l-1].T if l>0 else 1/p*dZ[l]@X[:,t*batch_size:(t+1)*batch_size].T\n",
    "            db[l] = 1/p*np.sum(dZ[l],axis=1,keepdims=True)\n",
    "            vdW[l] = B*vdW[l] + (1-B)*dW[l]\n",
    "            vdb[l] = B*vdb[l] + (1-B)*db[l]\n",
    "            W[l] -= lr*vdW[l]\n",
    "            b[l] -= lr*vdb[l]\n",
    "\n",
    "        current_loss = -1/p*(Y[:,t*batch_size:(t+1)*batch_size]@np.log(A[L-1]).T+(1-Y[:,t*batch_size:(t+1)*batch_size])@np.log(1-A[L-1]).T)\n",
    "        loss = np.append(loss,current_loss)\n",
    "\n",
    "print(\"Last iteration:\",i+1)\n",
    "print(\"Losses:\",loss[-10:])\n",
    "\n",
    "print(\"\\nWeights and biases\")\n",
    "print(\"W1:\",W[0])\n",
    "print(\"b1:\",b[0])\n",
    "print(\"W2:\",W[1])\n",
    "print(\"b2:\",b[1])\n",
    "print(\"W3:\",W[2])\n",
    "print(\"b3:\",b[2])"
   ]
  },
  {
   "cell_type": "code",
   "execution_count": 18,
   "metadata": {},
   "outputs": [
    {
     "data": {
      "image/png": "[encoded data removed]",
      "text/plain": [
       "<Figure size 504x504 with 1 Axes>"
      ]
     },
     "metadata": {
      "needs_background": "light"
     },
     "output_type": "display_data"
    }
   ],
   "source": [
    "# Plotting the cost function against the number of iterations\n",
    "fig = plt.figure(figsize=[7,7])\n",
    "ax = fig.add_subplot(1,1,1)\n",
    "ax.plot(np.arange(len(loss))+1,loss)\n",
    "ax.set_ylabel('Cost')\n",
    "ax.set_xlabel('Iterations')\n",
    "fig.show()"
   ]
  },
  {
   "cell_type": "markdown",
   "metadata": {},
   "source": [
    "## 5 Training a Deep Neural Network Using RMSprop\n",
    "The following code implements RMSprop to train a deep neural network of 2 hidden layers with 4 neurons in each hidden layer."
   ]
  },
  {
   "cell_type": "code",
   "execution_count": 19,
   "metadata": {},
   "outputs": [],
   "source": [
    "# Initialising the paramaters of the neural network with Xavier initialisation\n",
    "W = [np.random.randn(4,3)*np.sqrt(1/3),np.random.randn(4,4)*np.sqrt(1/4),np.random.randn(1,4)*np.sqrt(1/4)]\n",
    "b = [np.zeros((4,1)),np.zeros((4,1)),np.zeros((1,1))]"
   ]
  },
  {
   "cell_type": "code",
   "execution_count": 20,
   "metadata": {},
   "outputs": [
    {
     "name": "stdout",
     "output_type": "stream",
     "text": [
      "Last iteration: 3\n",
      "Losses: [0.05457275 0.05209685 0.12702744 0.05131812 0.08751961 0.12765343\n",
      " 0.17404675 0.02647706 0.09802963 0.09688442]\n",
      "\n",
      "Weights and biases\n",
      "W1: [[-0.56708459  0.68524827 -0.88451383]\n",
      " [-0.51984601  0.78679587  0.06654147]\n",
      " [-0.08391869 -0.7854356   0.13295898]\n",
      " [ 0.11264959  1.01803024  0.18059157]]\n",
      "b1: [[ 0.25337451]\n",
      " [-1.00980976]\n",
      " [ 1.29674707]\n",
      " [-0.21975782]]\n",
      "W2: [[ 0.14270456  0.76980893 -1.1860627  -0.31163099]\n",
      " [-0.3326398   1.58584749 -0.46351573 -0.32891861]\n",
      " [-0.67519355 -0.7084858  -0.18277544 -1.10626747]\n",
      " [ 0.54377595 -0.24841874  0.84139418 -1.11388464]]\n",
      "b2: [[-1.00639618]\n",
      " [-0.98486314]\n",
      " [ 0.45682187]\n",
      " [ 0.40646207]]\n",
      "W3: [[ 1.35258161  1.58171129 -1.76793732 -0.84913283]]\n",
      "b3: [[-0.75065987]]\n"
     ]
    }
   ],
   "source": [
    "# Updating parameters using RMSprop\n",
    "iter = 3\n",
    "lr = 0.01\n",
    "B = 0.999\n",
    "loss = np.array([])\n",
    "L = 3\n",
    "batch_size = 125\n",
    "batch_num = Y.shape[1]//batch_size if Y.shape[1]%batch_size == 0 else Y.shape[1]//batch_size + 1\n",
    "\n",
    "sdW = [0]*L\n",
    "sdb = [0]*L\n",
    "for i in np.arange(iter):\n",
    "    \n",
    "    for t in np.arange(batch_num):\n",
    "        # Forward propagation\n",
    "        Z = []\n",
    "        A = []\n",
    "        for l in np.arange(L):\n",
    "            Z.append(W[l]@A[l-1]+b[l] if l> 0 else W[l]@X[:,t*batch_size:(t+1)*batch_size]+b[l])\n",
    "            A.append(1/(1+np.exp(-Z[l])) if l==L-1 else np.tanh(Z[l]))\n",
    "\n",
    "        # Back propagation\n",
    "        dZ = [0]*L\n",
    "        dA = [0]*L\n",
    "        dW = [0]*L\n",
    "        db = [0]*L\n",
    "        \n",
    "        p = X[:,t*batch_size:(t+1)*batch_size].shape[1]\n",
    "        for l in np.arange(L-1,-1,-1):\n",
    "            dZ[l] = A[l]-Y[:,t*batch_size:(t+1)*batch_size] if l==L-1 else dA[l]*(1-np.tanh(Z[l])**2)\n",
    "            dA[l-1] = W[l].T@dZ[l] if l> 0 else 0\n",
    "            dW[l] = 1/p*dZ[l]@A[l-1].T if l>0 else 1/p*dZ[l]@X[:,t*batch_size:(t+1)*batch_size].T\n",
    "            db[l] = 1/p*np.sum(dZ[l],axis=1,keepdims=True)\n",
    "            sdW[l] = B*sdW[l] + (1-B)*dW[l]**2\n",
    "            sdb[l] = B*sdb[l] + (1-B)*db[l]**2\n",
    "            W[l] -= lr*dW[l]/np.sqrt(sdW[l]+1e-8)\n",
    "            b[l] -= lr*db[l]/np.sqrt(sdb[l]+1e-8)\n",
    "\n",
    "        current_loss = -1/p*(Y[:,t*batch_size:(t+1)*batch_size]@np.log(A[L-1]).T+(1-Y[:,t*batch_size:(t+1)*batch_size])@np.log(1-A[L-1]).T)\n",
    "        loss = np.append(loss,current_loss)\n",
    "\n",
    "print(\"Last iteration:\",i+1)\n",
    "print(\"Losses:\",loss[-10:])\n",
    "\n",
    "print(\"\\nWeights and biases\")\n",
    "print(\"W1:\",W[0])\n",
    "print(\"b1:\",b[0])\n",
    "print(\"W2:\",W[1])\n",
    "print(\"b2:\",b[1])\n",
    "print(\"W3:\",W[2])\n",
    "print(\"b3:\",b[2])"
   ]
  },
  {
   "cell_type": "code",
   "execution_count": 21,
   "metadata": {},
   "outputs": [
    {
     "data": {
      "image/png": "[encoded data removed]",
      "text/plain": [
       "<Figure size 504x504 with 1 Axes>"
      ]
     },
     "metadata": {
      "needs_background": "light"
     },
     "output_type": "display_data"
    }
   ],
   "source": [
    "# Plotting the cost function against the number of iterations\n",
    "fig = plt.figure(figsize=[7,7])\n",
    "ax = fig.add_subplot(1,1,1)\n",
    "ax.plot(np.arange(len(loss))+1,loss)\n",
    "ax.set_ylabel('Cost')\n",
    "ax.set_xlabel('Iterations')\n",
    "fig.show()"
   ]
  },
  {
   "cell_type": "markdown",
   "metadata": {},
   "source": [
    "## 6 Training a Deep Neural Network Using Adam\n",
    "The following code implements the Adam optimisation algorithm to train a deep neural network of 2 hidden layers with 4 neurons in each hidden layer."
   ]
  },
  {
   "cell_type": "code",
   "execution_count": 22,
   "metadata": {},
   "outputs": [],
   "source": [
    "# Initialising the paramaters of the neural network with Xavier initialisation\n",
    "W = [np.random.randn(4,3)*np.sqrt(1/3),np.random.randn(4,4)*np.sqrt(1/4),np.random.randn(1,4)*np.sqrt(1/4)]\n",
    "b = [np.zeros((4,1)),np.zeros((4,1)),np.zeros((1,1))]"
   ]
  },
  {
   "cell_type": "code",
   "execution_count": 23,
   "metadata": {},
   "outputs": [
    {
     "name": "stdout",
     "output_type": "stream",
     "text": [
      "Last iteration: 3\n",
      "Losses: [0.06056679 0.0560435  0.12537846 0.05174122 0.08459479 0.13027041\n",
      " 0.18083305 0.01918797 0.09036606 0.101724  ]\n",
      "\n",
      "Weights and biases\n",
      "W1: [[ 0.12881752  0.32963268 -0.3614082 ]\n",
      " [ 0.1436395  -0.84272337  0.18904381]\n",
      " [ 0.45869002 -0.7715395  -0.16761518]\n",
      " [ 0.47875494  0.72969933 -0.68775163]]\n",
      "b1: [[-0.90941981]\n",
      " [ 0.79071195]\n",
      " [ 0.78647139]\n",
      " [ 0.81031208]]\n",
      "W2: [[-0.410006   -0.8803584  -0.81657261  0.97650021]\n",
      " [-0.23825809  1.10737891  1.37220687  1.43727781]\n",
      " [-0.80343827  1.32832338 -0.23657927 -0.34770782]\n",
      " [-0.1088727   0.16657936  1.11263545  0.32198861]]\n",
      "b2: [[-0.5486044 ]\n",
      " [ 0.74449876]\n",
      " [ 0.79445291]\n",
      " [ 0.74224514]]\n",
      "W3: [[ 1.60974907 -1.46926743 -0.67225836 -1.98052507]]\n",
      "b3: [[-0.72620441]]\n"
     ]
    }
   ],
   "source": [
    "# Updating parameters using Adam\n",
    "iter = 3\n",
    "lr = 0.01\n",
    "B1 = 0.9\n",
    "B2 = 0.999\n",
    "loss = np.array([])\n",
    "L = 3\n",
    "batch_size = 125\n",
    "batch_num = Y.shape[1]//batch_size if Y.shape[1]%batch_size == 0 else Y.shape[1]//batch_size + 1\n",
    "\n",
    "vdW = [0]*L\n",
    "vdb = [0]*L\n",
    "sdW = [0]*L\n",
    "sdb = [0]*L\n",
    "for i in np.arange(iter):\n",
    "    \n",
    "    for t in np.arange(batch_num):\n",
    "        # Forward propagation\n",
    "        Z = []\n",
    "        A = []\n",
    "        for l in np.arange(L):\n",
    "            Z.append(W[l]@A[l-1]+b[l] if l> 0 else W[l]@X[:,t*batch_size:(t+1)*batch_size]+b[l])\n",
    "            A.append(1/(1+np.exp(-Z[l])) if l==L-1 else np.tanh(Z[l]))\n",
    "\n",
    "        # Back propagation\n",
    "        dZ = [0]*L\n",
    "        dA = [0]*L\n",
    "        dW = [0]*L\n",
    "        db = [0]*L\n",
    "        \n",
    "        p = X[:,t*batch_size:(t+1)*batch_size].shape[1]\n",
    "        for l in np.arange(L-1,-1,-1):\n",
    "            dZ[l] = A[l]-Y[:,t*batch_size:(t+1)*batch_size] if l==L-1 else dA[l]*(1-np.tanh(Z[l])**2)\n",
    "            dA[l-1] = W[l].T@dZ[l] if l> 0 else 0\n",
    "            dW[l] = 1/p*dZ[l]@A[l-1].T if l>0 else 1/p*dZ[l]@X[:,t*batch_size:(t+1)*batch_size].T\n",
    "            db[l] = 1/p*np.sum(dZ[l],axis=1,keepdims=True)\n",
    "            vdW[l] = (B1*vdW[l] + (1-B1)*dW[l])\n",
    "            vdb[l] = (B1*vdb[l] + (1-B1)*db[l])\n",
    "            sdW[l] = (B2*sdW[l] + (1-B2)*dW[l]**2)\n",
    "            sdb[l] = (B2*sdb[l] + (1-B2)*db[l]**2)\n",
    "            W[l] -= lr*vdW[l]/np.sqrt(sdW[l]+1e-8)\n",
    "            b[l] -= lr*vdb[l]/np.sqrt(sdb[l]+1e-8)\n",
    "\n",
    "        current_loss = -1/p*(Y[:,t*batch_size:(t+1)*batch_size]@np.log(A[L-1]).T+(1-Y[:,t*batch_size:(t+1)*batch_size])@np.log(1-A[L-1]).T)\n",
    "        loss = np.append(loss,current_loss)\n",
    "\n",
    "print(\"Last iteration:\",i+1)\n",
    "print(\"Losses:\",loss[-10:])\n",
    "\n",
    "print(\"\\nWeights and biases\")\n",
    "print(\"W1:\",W[0])\n",
    "print(\"b1:\",b[0])\n",
    "print(\"W2:\",W[1])\n",
    "print(\"b2:\",b[1])\n",
    "print(\"W3:\",W[2])\n",
    "print(\"b3:\",b[2])"
   ]
  },
  {
   "cell_type": "code",
   "execution_count": 24,
   "metadata": {},
   "outputs": [
    {
     "data": {
      "image/png": "[encoded data removed]",
      "text/plain": [
       "<Figure size 504x504 with 1 Axes>"
      ]
     },
     "metadata": {
      "needs_background": "light"
     },
     "output_type": "display_data"
    }
   ],
   "source": [
    "# Plotting the cost function against the number of iterations\n",
    "fig = plt.figure(figsize=[7,7])\n",
    "ax = fig.add_subplot(1,1,1)\n",
    "ax.plot(np.arange(len(loss))+1,loss)\n",
    "ax.set_ylabel('Cost')\n",
    "ax.set_xlabel('Iterations')\n",
    "fig.show()"
   ]
  },
  {
   "cell_type": "markdown",
   "metadata": {},
   "source": [
    "## Conclusion\n",
    "The charts of cost functions versus the number of iterations show that the Adam optimisation algorithm is the quickest, followed by RMSprop, gradient descent with momentum and then mini-batch gradient descent. Each of these algorithms is dramatically faster than batch gradient descent.\n",
    "\n",
    "Mini-batch gradient descent is quicker than batch gradient descent, but the cost function does not decrease monotonically and is subject to noise. This noise is supressed by the use of exponentially weighted averages in gradient descent with momentum.\n",
    "\n",
    "RMSprop and Adam find the minimum of the cost function in dramatically fewer iterations than the other algorithms, but are subject to noise as well. This noise can be reduced by appropriate tuning of the beta values associated with these algorithms."
   ]
  }
 ],
 "metadata": {
  "kernelspec": {
   "display_name": "base",
   "language": "python",
   "name": "python3"
  },
  "language_info": {
   "codemirror_mode": {
    "name": "ipython",
    "version": 3
   },
   "file_extension": ".py",
   "mimetype": "text/x-python",
   "name": "python",
   "nbconvert_exporter": "python",
   "pygments_lexer": "ipython3",
   "version": "3.9.12"
  },
  "orig_nbformat": 4
 },
 "nbformat": 4,
 "nbformat_minor": 2
}
